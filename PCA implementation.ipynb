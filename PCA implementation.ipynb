{
  "nbformat": 4,
  "nbformat_minor": 0,
  "metadata": {
    "colab": {
      "provenance": [],
      "collapsed_sections": []
    },
    "kernelspec": {
      "name": "python3",
      "display_name": "Python 3"
    },
    "language_info": {
      "name": "python"
    }
  },
  "cells": [
    {
      "cell_type": "code",
      "execution_count": 8,
      "metadata": {
        "id": "QxcgH49kdRkX"
      },
      "outputs": [],
      "source": [
        "# Importing necessary libraries\n",
        "import numpy as np\n",
        "import matplotlib.pyplot as plt\n",
        "from numpy import linalg as LA\n",
        "import cv2\n"
      ]
    },
    {
      "cell_type": "code",
      "source": [
        "faces=np.load(\"/content/olivetti_faces.npy\")"
      ],
      "metadata": {
        "id": "_lBl4xVmjizJ"
      },
      "execution_count": 9,
      "outputs": []
    },
    {
      "cell_type": "code",
      "source": [
        "plt.imshow(faces[3], cmap='gray')\n",
        "plt.axis('off')\n"
      ],
      "metadata": {
        "colab": {
          "base_uri": "https://localhost:8080/",
          "height": 265
        },
        "id": "XpKVO5FQj2Fe",
        "outputId": "0910f2c7-ae42-44c7-9b54-295d47ce7363"
      },
      "execution_count": 23,
      "outputs": [
        {
          "output_type": "execute_result",
          "data": {
            "text/plain": [
              "(-0.5, 63.5, 63.5, -0.5)"
            ]
          },
          "metadata": {},
          "execution_count": 23
        },
        {
          "output_type": "display_data",
          "data": {
            "text/plain": [
              "<Figure size 432x288 with 1 Axes>"
            ],
            "image/png": "[encoded data removed]"
          },
          "metadata": {
            "needs_background": "light"
          }
        }
      ]
    },
    {
      "cell_type": "code",
      "source": [
        "avgFace = np.average(faces, axis=0)\n",
        "X = faces\n",
        "X = X.reshape((X.shape[0], X.shape[1]**2)) #flattening the image \n",
        "X = X - np.average(X, axis=0) #making it zero centered\n",
        "#printing a sample image to show the effect of zero centering\n",
        "plt.imshow(X[3].reshape(64,64), cmap='gray')\n",
        "plt.axis('off')"
      ],
      "metadata": {
        "colab": {
          "base_uri": "https://localhost:8080/",
          "height": 265
        },
        "id": "V_aRMv-0kwFx",
        "outputId": "228e17c6-171c-4c15-cd14-f824c0c6110f"
      },
      "execution_count": 25,
      "outputs": [
        {
          "output_type": "execute_result",
          "data": {
            "text/plain": [
              "(-0.5, 63.5, 63.5, -0.5)"
            ]
          },
          "metadata": {},
          "execution_count": 25
        },
        {
          "output_type": "display_data",
          "data": {
            "text/plain": [
              "<Figure size 432x288 with 1 Axes>"
            ],
            "image/png": "[encoded data removed]"
          },
          "metadata": {
            "needs_background": "light"
          }
        }
      ]
    },
    {
      "cell_type": "code",
      "source": [
        "X_meaned = X - np.mean(X , axis = 0)\n",
        "print (X_meaned)\n",
        "\n",
        "print(X.shape)\n",
        "print (X_meaned.shape)\n",
        "\n",
        "cov_mat = np.cov(X_meaned , rowvar = False)   # rowvar = False >> work with X_meaned as transposed\n",
        "\n",
        "print (cov_mat.shape)\n",
        "print (cov_mat)\n",
        "eigen_values , eigen_vectors = np.linalg.eigh(cov_mat)\n",
        "\n",
        "print (eigen_vectors.shape)\n",
        "print (eigen_values)\n",
        "\n",
        "#sort the eigenvalues in descending order\n",
        "sorted_index = np.argsort(eigen_values)[::-1]\n",
        "print (sorted_index)\n",
        "sorted_eigenvalue = eigen_values[sorted_index]\n",
        "#similarly sort the eigenvectors \n",
        "sorted_eigenvectors = eigen_vectors[:,sorted_index]\n",
        "n_components = 50 #you can select any number of components.\n",
        "eigenvector_subset = sorted_eigenvectors[:,0:n_components]\n",
        "print (eigenvector_subset)\n",
        "X_reduced = np.dot(eigenvector_subset.transpose(),X_meaned.transpose()).transpose()"
      ],
      "metadata": {
        "colab": {
          "base_uri": "https://localhost:8080/"
        },
        "id": "ZvMmWScYkYef",
        "outputId": "8f66118e-df85-41f1-e07d-369c3de2dd24"
      },
      "execution_count": 31,
      "outputs": [
        {
          "output_type": "stream",
          "name": "stdout",
          "text": [
            "[[-0.09021693 -0.06646696 -0.05892565 ... -0.16852275 -0.15248966\n",
            "  -0.15342975]\n",
            " [ 0.05441117  0.03683883  0.03611569 ... -0.16852275 -0.16075413\n",
            "  -0.15756199]\n",
            " [-0.08195248 -0.03340909  0.01545454 ... -0.18091944 -0.16488636\n",
            "  -0.15756199]\n",
            " ...\n",
            " [ 0.0998657   0.09882233  0.13115703 ... -0.14372936 -0.16488636\n",
            "  -0.12037191]\n",
            " [-0.18525827 -0.21522728 -0.25727275 ...  0.25296485  0.27726236\n",
            "   0.2928512 ]\n",
            " [ 0.11639461  0.02857438 -0.19528927 ...  0.03808883  0.0417252\n",
            "   0.07384297]]\n",
            "(400, 4096)\n",
            "(400, 4096)\n",
            "(4096, 4096)\n",
            "[[ 0.0326506   0.03229796  0.02867434 ... -0.0062897  -0.00601135\n",
            "  -0.00467442]\n",
            " [ 0.03229796  0.03591166  0.03411555 ... -0.0089469  -0.00847119\n",
            "  -0.0067598 ]\n",
            " [ 0.02867434  0.03411555  0.03792458 ... -0.01218907 -0.01133785\n",
            "  -0.00948972]\n",
            " ...\n",
            " [-0.0062897  -0.0089469  -0.01218907 ...  0.03528458  0.03143893\n",
            "   0.02803686]\n",
            " [-0.00601135 -0.00847119 -0.01133785 ...  0.03143893  0.03371498\n",
            "   0.03130744]\n",
            " [-0.00467442 -0.0067598  -0.00948972 ...  0.02803686  0.03130744\n",
            "   0.03262884]]\n",
            "(4096, 4096)\n",
            "[-5.07743615e-15 -3.45469626e-15 -3.38649543e-15 ...  6.30461473e+00\n",
            "  1.10717621e+01  1.88401758e+01]\n",
            "[4095 4094 4093 ...    2    1    0]\n",
            "[[-0.0041911  -0.02859139  0.00135691 ... -0.00915075 -0.00346029\n",
            "  -0.01152865]\n",
            " [-0.0071095  -0.03328836 -0.0003258  ... -0.02593124 -0.01484851\n",
            "  -0.01685535]\n",
            " [-0.00933609 -0.0378465  -0.00019799 ... -0.01652754 -0.01307571\n",
            "  -0.0163096 ]\n",
            " ...\n",
            " [ 0.00018516  0.02962783 -0.01541365 ... -0.01164095 -0.02628293\n",
            "  -0.02226062]\n",
            " [ 0.00337965  0.02721299 -0.01370978 ... -0.00744224 -0.0520956\n",
            "  -0.0006516 ]\n",
            " [ 0.00318826  0.02488899 -0.01188341 ... -0.01106764 -0.05119417\n",
            "   0.02145056]]\n"
          ]
        }
      ]
    },
    {
      "cell_type": "code",
      "source": [
        "temp= np.matmul(eigenvector_subset,X_reduced[3])\n",
        "temp.shape\n",
        "temp=temp.real\n",
        "plt.imshow(temp.reshape(64,64) , cmap= 'gray')\n",
        "\n",
        "plt.axis('off')\n",
        "print(\"image compression\")"
      ],
      "metadata": {
        "colab": {
          "base_uri": "https://localhost:8080/",
          "height": 265
        },
        "id": "PaUUQYExk3e7",
        "outputId": "08b70cd7-ba9a-4a8f-fd67-c0a96e6ba823"
      },
      "execution_count": 32,
      "outputs": [
        {
          "output_type": "stream",
          "name": "stdout",
          "text": [
            "image compression\n"
          ]
        },
        {
          "output_type": "display_data",
          "data": {
            "text/plain": [
              "<Figure size 432x288 with 1 Axes>"
            ],
            "image/png": "[encoded data removed]"
          },
          "metadata": {
            "needs_background": "light"
          }
        }
      ]
    },
    {
      "cell_type": "code",
      "source": [
        "print(X_reduced.shape)"
      ],
      "metadata": {
        "colab": {
          "base_uri": "https://localhost:8080/"
        },
        "id": "vazI2r3vmuYj",
        "outputId": "a5d78a88-3479-4633-9f49-c8ced7e9ae58"
      },
      "execution_count": 17,
      "outputs": [
        {
          "output_type": "stream",
          "name": "stdout",
          "text": [
            "(400, 2)\n"
          ]
        }
      ]
    }
  ]
}